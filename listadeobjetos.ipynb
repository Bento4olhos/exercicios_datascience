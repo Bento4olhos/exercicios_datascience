{
 "cells": [
  {
   "cell_type": "code",
   "execution_count": null,
   "id": "5b91dec3-1901-405e-8d5f-622697ef7ff0",
   "metadata": {},
   "outputs": [
    {
     "name": "stdout",
     "output_type": "stream",
     "text": [
      "Esses são todos os produtos dentro da lista de produtos da loja:\n",
      "\n",
      "- Maçã, Banana, Laranja, Uva, Pêra\n",
      "\n"
     ]
    },
    {
     "name": "stdin",
     "output_type": "stream",
     "text": [
      "Qual produto você deseja pesquisar? Banana\n"
     ]
    },
    {
     "name": "stdout",
     "output_type": "stream",
     "text": [
      "Foi pesquisado: \"Banana\"\n",
      "Temos sim o produto Banana, ele custa $0.50\n",
      "\n"
     ]
    },
    {
     "name": "stdin",
     "output_type": "stream",
     "text": [
      "Qual produto você deseja pesquisar? Uva\n"
     ]
    },
    {
     "name": "stdout",
     "output_type": "stream",
     "text": [
      "Foi pesquisado: \"Uva\"\n",
      "Temos sim o produto Uva, ele custa $2.00\n",
      "\n"
     ]
    },
    {
     "name": "stdin",
     "output_type": "stream",
     "text": [
      "Qual produto você deseja pesquisar? uva\n"
     ]
    },
    {
     "name": "stdout",
     "output_type": "stream",
     "text": [
      "Foi pesquisado: \"uva\"\n",
      "Esse produto nós não temos :(\n",
      "Esses são todos os produtos dentro da lista de produtos da loja:\n",
      "\n",
      "- Maçã, Banana, Laranja, Uva, Pêra\n",
      "\n"
     ]
    }
   ],
   "source": [
    "'''\n",
    "Exercício: Escreva um programa em Python que permita ao usuário pesquisar se\n",
    "um produto está disponível em uma lista de produtos da loja. Se o produto foi \n",
    "encontrado deve mostrar o preço.\n",
    "'''\n",
    "\n",
    "produtos = {'Maçã': '$1,00',\n",
    "            'Banana': '$0.50',\n",
    "            'Laranja': '$0.75',\n",
    "            'Uva': '$2.00',\n",
    "            'Pêra': '$1.50',\n",
    "            }\n",
    "\n",
    "def printandoProdutos() :\n",
    "\n",
    "    print('Esses são todos os produtos dentro da lista de produtos da loja:\\n')\n",
    "    nomesProdutos = \", \".join(produtos.keys())\n",
    "    print(f'- {nomesProdutos}\\n')\n",
    "\n",
    "def procurandoProdutos() :\n",
    "    produtoEscolhido = input('Qual produto você deseja pesquisar?')\n",
    "    produtoEncontrado = produtos.get(produtoEscolhido)\n",
    "\n",
    "    if produtoEncontrado :\n",
    "        print(f'Foi pesquisado: \\\"{produtoEscolhido}\\\"')\n",
    "        print(f'Temos sim o produto {produtoEscolhido}, ele custa {produtoEncontrado}\\n')\n",
    "        procurandoProdutos()\n",
    "    elif produtoEscolhido == 'Finish' :\n",
    "        print('Busca finalizada')\n",
    "    else :\n",
    "        print(f'Foi pesquisado: \\\"{produtoEscolhido}\\\"')\n",
    "        print('Esse produto nós não temos :(')\n",
    "        printandoProdutos()\n",
    "        procurandoProdutos()\n",
    "\n",
    "printandoProdutos()\n",
    "procurandoProdutos()"
   ]
  },
  {
   "cell_type": "code",
   "execution_count": null,
   "id": "5ec4536e-b490-42e3-b9a0-5d1a35e9eaa2",
   "metadata": {},
   "outputs": [],
   "source": []
  }
 ],
 "metadata": {
  "kernelspec": {
   "display_name": "Python 3 (ipykernel)",
   "language": "python",
   "name": "python3"
  },
  "language_info": {
   "codemirror_mode": {
    "name": "ipython",
    "version": 3
   },
   "file_extension": ".py",
   "mimetype": "text/x-python",
   "name": "python",
   "nbconvert_exporter": "python",
   "pygments_lexer": "ipython3",
   "version": "3.11.2"
  }
 },
 "nbformat": 4,
 "nbformat_minor": 5
}
